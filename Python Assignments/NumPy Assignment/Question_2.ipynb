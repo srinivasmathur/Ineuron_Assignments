{
  "nbformat": 4,
  "nbformat_minor": 0,
  "metadata": {
    "colab": {
      "name": "Question_2.ipynb",
      "provenance": []
    },
    "kernelspec": {
      "name": "python3",
      "display_name": "Python 3"
    }
  },
  "cells": [
    {
      "cell_type": "code",
      "metadata": {
        "id": "7Is6yRYwZDjt",
        "colab": {
          "base_uri": "https://localhost:8080/"
        },
        "outputId": "0946e553-84d9-4504-8743-28b82a267383"
      },
      "source": [
        "mylist =  [3, 5, 7, 2, 8, 10, 11, 65, 72, 81, 99, 100, 150]\n",
        "n=len(mylist)\n",
        "moving_avg = []\n",
        "k=3\n",
        "\n",
        "for left in range(n-k+1):\n",
        "  right = left + k\n",
        "  sum_window = sum(mylist[left:right])\n",
        "  moving_avg.append(round(sum_window/k,3))\n",
        "\n",
        "print(moving_avg)"
      ],
      "execution_count": 28,
      "outputs": [
        {
          "output_type": "stream",
          "text": [
            "[5.0, 4.667, 5.667, 6.667, 9.667, 28.667, 49.333, 72.667, 84.0, 93.333, 116.333]\n"
          ],
          "name": "stdout"
        }
      ]
    },
    {
      "cell_type": "code",
      "metadata": {
        "id": "CsJUCtS3dJHe"
      },
      "source": [
        ""
      ],
      "execution_count": 8,
      "outputs": []
    }
  ]
}