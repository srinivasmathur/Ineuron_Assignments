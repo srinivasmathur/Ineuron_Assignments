{
  "nbformat": 4,
  "nbformat_minor": 0,
  "metadata": {
    "colab": {
      "name": "Question_1.ipynb",
      "provenance": []
    },
    "kernelspec": {
      "name": "python3",
      "display_name": "Python 3"
    },
    "language_info": {
      "name": "python"
    }
  },
  "cells": [
    {
      "cell_type": "code",
      "metadata": {
        "colab": {
          "base_uri": "https://localhost:8080/"
        },
        "id": "uYsphCdIlCCx",
        "outputId": "ad7ddac6-6d2a-469a-e62e-1ee31ec3d9ce"
      },
      "source": [
        "import numpy as np\n",
        "\n",
        "def Vander_mat(arr,N,increasing = True):  \n",
        "  if increasing == True:\n",
        "    list_of_arr = [arr**i for i in range(N)]\n",
        "  else:\n",
        "    list_of_arr = [arr**(N-i-1) for i in range(N)]\n",
        "\n",
        "  return np.stack(list_of_arr,1)\n",
        "\n",
        "\n",
        "x = np.array([1,2,3,4])\n",
        "print(Vander_mat(x,5))"
      ],
      "execution_count": 2,
      "outputs": [
        {
          "output_type": "stream",
          "text": [
            "[[  1   1   1   1   1]\n",
            " [  1   2   4   8  16]\n",
            " [  1   3   9  27  81]\n",
            " [  1   4  16  64 256]]\n"
          ],
          "name": "stdout"
        }
      ]
    },
    {
      "cell_type": "code",
      "metadata": {
        "id": "fYRR1UE_lHJN"
      },
      "source": [
        ""
      ],
      "execution_count": null,
      "outputs": []
    }
  ]
}