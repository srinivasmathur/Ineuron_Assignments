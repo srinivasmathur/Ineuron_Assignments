{
  "nbformat": 4,
  "nbformat_minor": 0,
  "metadata": {
    "colab": {
      "name": "Stats Assignment-1.ipynb",
      "provenance": [],
      "collapsed_sections": []
    },
    "kernelspec": {
      "name": "python3",
      "display_name": "Python 3"
    }
  },
  "cells": [
    {
      "cell_type": "code",
      "metadata": {
        "id": "Zzs0LB9NFgBM"
      },
      "source": [
        "import warnings\n",
        "warnings.filterwarnings(\"ignore\", category=FutureWarning) "
      ],
      "execution_count": null,
      "outputs": []
    },
    {
      "cell_type": "markdown",
      "metadata": {
        "id": "6DL8Zkj71wVI"
      },
      "source": [
        "### Calculate the mean, median, mode and standard deviation for the problem statements 1 & 2.\n",
        "\n",
        "### Problem Statement 1:\n",
        "##### The marks awarded for an assignment set for a Year 8 class of 20 students were as follows:\n",
        "##### 6 7 5 7 7 8 7 6 9 7 4 10 6 8 8 9 5 6 4 8"
      ]
    },
    {
      "cell_type": "code",
      "metadata": {
        "id": "G-ee5WOuNWbW",
        "colab": {
          "base_uri": "https://localhost:8080/"
        },
        "outputId": "cd799903-7303-4bc8-c111-696ec0a0c697"
      },
      "source": [
        "import numpy as np\n",
        "nums = list(map(int,\"6 7 5 7 7 8 7 6 9 7 4 10 6 8 8 9 5 6 4 8\".split()))\n",
        "n = len(nums)\n",
        "mean = sum(nums)/n\n",
        "nums.sort()\n",
        "if n%2==0:\n",
        "  i = int(n/2)\n",
        "  median = (nums[i-1] + nums[i])/2\n",
        "else:\n",
        "  i=int(n/2)\n",
        "  median = nums[i]\n",
        "\n",
        "std = np.sqrt(sum((np.array(nums) - mean)**2)/n) \n",
        "print(f\"Mean = {mean}\")\n",
        "print(f\"Median = {median}\") \n",
        "print(f\"Standard deviation = {round(std,3)}\")"
      ],
      "execution_count": null,
      "outputs": [
        {
          "output_type": "stream",
          "text": [
            "Mean = 6.85\n",
            "Median = 7.0\n",
            "Standard deviation = 1.59\n"
          ],
          "name": "stdout"
        }
      ]
    },
    {
      "cell_type": "markdown",
      "metadata": {
        "id": "C0L44m842Lnc"
      },
      "source": [
        "### Problem Statement 2:\n",
        "##### The number of calls from motorists per day for roadside service was recorded for a particular month:\n",
        "##### 28, 122, 217, 130, 120, 86, 80, 90, 140, 120, 70, 40, 145, 113, 90, 68, 174, 194, 170,100, 75, 104, 97, 75,123, 100, 75, 104, 97, 75, 123, 100, 89, 120, 109"
      ]
    },
    {
      "cell_type": "code",
      "metadata": {
        "colab": {
          "base_uri": "https://localhost:8080/"
        },
        "id": "EnHhdAtQ2isH",
        "outputId": "3da2fe15-a9e3-4398-ced7-2032de91012c"
      },
      "source": [
        "import numpy as np\n",
        "nums = list(map(int,\"28, 122, 217, 130, 120, 86, 80, 90, 140, 120, 70, 40, 145, 113, 90, 68, 174, 194, 170,100, 75, 104, 97, 75,123, 100, 75, 104, 97, 75, 123, 100, 89, 120, 109\".split(',')))\n",
        "n = len(nums)\n",
        "mean = sum(nums)/n\n",
        "nums.sort()\n",
        "if n%2==0:\n",
        "  i = int(n/2)\n",
        "  median = (nums[i-1] + nums[i])/2\n",
        "else:\n",
        "  i=int(n/2)\n",
        "  median = nums[i]\n",
        "\n",
        "std = np.sqrt(sum((np.array(nums) - mean)**2)/n) \n",
        "print(f\"Mean = {round(mean,3)}\")\n",
        "print(f\"Median = {median}\") \n",
        "print(f\"Standard deviation = {round(std,3)}\")"
      ],
      "execution_count": null,
      "outputs": [
        {
          "output_type": "stream",
          "text": [
            "Mean = 107.514\n",
            "Median = 100\n",
            "Standard deviation = 38.773\n"
          ],
          "name": "stdout"
        }
      ]
    },
    {
      "cell_type": "code",
      "metadata": {
        "id": "on-VBILk2iwH"
      },
      "source": [
        ""
      ],
      "execution_count": null,
      "outputs": []
    },
    {
      "cell_type": "markdown",
      "metadata": {
        "id": "JA-rMaB22zaZ"
      },
      "source": [
        "### Problem Statement 3:\n",
        "#####The number of times I go to the gym in weekdays, are given below along with its associated probability:\n",
        "##### x = 0, 1, 2, 3, 4, 5\n",
        "#####f(x) = 0.09, 0.15, 0.40, 0.25, 0.10, 0.01\n",
        "#####Calculate the mean no. of workouts in a week. Also evaluate the variance involved in it."
      ]
    },
    {
      "cell_type": "code",
      "metadata": {
        "colab": {
          "base_uri": "https://localhost:8080/"
        },
        "id": "Zb9GtT-o2izv",
        "outputId": "9510e3d0-8dcb-441f-f9f0-9b4d876e6d6c"
      },
      "source": [
        "# E(x) is the expectation/average value of x and V(x) is variance of x\n",
        "# mean = E(x) =  x[i]*p[i]\n",
        "# variance = Var(x) = E(x^2) - mean^2\n",
        "x = [0, 1, 2, 3, 4, 5]\n",
        "f = [0.09, 0.15, 0.40, 0.25, 0.10, 0.01]\n",
        "\n",
        "mean = sum([x[i]*f[i] for i in range(len(x))])\n",
        "variance = sum([(x[i]**2)*f[i] for i in range(len(x))]) - mean**2\n",
        "\n",
        "print(\"Mean = \",mean)\n",
        "print('Variance = ',variance)"
      ],
      "execution_count": null,
      "outputs": [
        {
          "output_type": "stream",
          "text": [
            "Mean =  2.15\n",
            "Variance =  1.2275\n"
          ],
          "name": "stdout"
        }
      ]
    },
    {
      "cell_type": "code",
      "metadata": {
        "id": "kmPx9ONE6SZ3"
      },
      "source": [
        ""
      ],
      "execution_count": null,
      "outputs": []
    },
    {
      "cell_type": "markdown",
      "metadata": {
        "id": "BlzVmbkp7q6F"
      },
      "source": [
        "###Problem Statement 4:\n",
        "#####Let the continuous random variable D denote the diameter of the hole drilled in analuminum sheet. The target diameter to be achieved is 12.5mm. Randomdisturbances in the process often result in inaccuracy.Historical data shows that the distribution of D can be modelled by the PDF (d) = 20e−20(d−12.5), d ≥ 12.5. If a part with diameter > 12.6 mm needs to be scrapped,what is the proportion of those parts? What is the CDF when the diameter is of 11mm? What is your conclusion regarding the proportion of scraps?"
      ]
    },
    {
      "cell_type": "code",
      "metadata": {
        "id": "QfFM3grh7pve",
        "colab": {
          "base_uri": "https://localhost:8080/"
        },
        "outputId": "d348d7ba-8490-44ec-a090-18ca869ebf59"
      },
      "source": [
        "from scipy import integrate\n",
        "import numpy as np\n",
        "\n",
        "def pdf(d):\n",
        "  return 20*np.exp(-20*(d-12.5))\n",
        "\n",
        "print(f\"Probability of scrapping hole of diameter more than 12.6mm = {integrate.quad(pdf,12.6,np.inf)[0]}\")\n",
        "print(f\"Probability of scrapping hole of diameter more than 12.5mm = {integrate.quad(pdf,12.5,12.6)[0]}\")\n",
        "print(f\"CDF upto 11mm = {integrate.quad(pdf,-np.inf,11)[0]}\")\n",
        "\n",
        "# Conclusion - The pdf function is such that there is very high probabilty of diameter being in between 12.5 to 12.6 mm i.e. 0.86\n",
        "# The probability of diameter being 11 mm is undefined."
      ],
      "execution_count": null,
      "outputs": [
        {
          "output_type": "stream",
          "text": [
            "Probability of scrapping hole of diameter more than 12.6mm = 0.13533528323661398\n",
            "Probability of scrapping hole of diameter more than 12.5mm = 0.8646647167633718\n",
            "CDF upto 11mm = inf\n"
          ],
          "name": "stdout"
        },
        {
          "output_type": "stream",
          "text": [
            "/usr/local/lib/python3.7/dist-packages/ipykernel_launcher.py:5: RuntimeWarning: overflow encountered in exp\n",
            "  \"\"\"\n"
          ],
          "name": "stderr"
        }
      ]
    },
    {
      "cell_type": "code",
      "metadata": {
        "id": "w1Ke_HrO7pzG"
      },
      "source": [
        ""
      ],
      "execution_count": null,
      "outputs": []
    },
    {
      "cell_type": "markdown",
      "metadata": {
        "id": "zJUpur4j9ffE"
      },
      "source": [
        "###Problem Statement 5:\n",
        "\n",
        "#####A company manufactures LED bulbs with a faulty rate of 30%. If I randomly select 6 chosen LEDs, what is the probability of having 2 faulty LEDs in my sample? Calculate the average value of this process. Also evaluate the standard deviation associated with it."
      ]
    },
    {
      "cell_type": "code",
      "metadata": {
        "colab": {
          "base_uri": "https://localhost:8080/"
        },
        "id": "7uI5hbtF7p24",
        "outputId": "1da35e26-4a37-4e50-fc69-bada3184c568"
      },
      "source": [
        "# It can be solved using binomial distribution \n",
        "# p = 0.3\n",
        "# P(X=2) = 6C2 * p^2 * (1-p)^4 = 0.324\n",
        "# Therefore probability of selecting 2 faulty LED out of 6 is 0.324\n",
        "\n",
        "# The average value of the defective LEDs is given by\n",
        "# P(X=0) = 6C0 * p^0 * (1-p)^6 = 0.118\n",
        "# P(X=1) = 6C1 * p^1 * (1-p)^5 = 0.302\n",
        "# P(X=2) = 6C2 * p^2 * (1-p)^4 = 0.324\n",
        "# P(X=3) = 6C3 * p^3 * (1-p)^3 = 0.185\n",
        "# P(X=4) = 6C4 * p^4 * (1-p)^2 = 0.040\n",
        "# P(X=5) = 6C5 * p^5 * (1-p)^1 = 0.010\n",
        "# P(X=6) = 6C6 * p^6 * (1-p)^0 = 0.00073\n",
        "\n",
        "X = [0,1,2,3,4,5,6]\n",
        "P = [0.118,0.302,0.324,0.185,0.040,0.010,0.00073]\n",
        "average_X = sum([X[i]*P[i] for i in range(len(X))])\n",
        "Variance = sum([X[i]**2*P[i] for i in range(len(X))]) - average_X**2\n",
        "std  = Variance**0.5\n",
        "print(\"Therefore, The average value of faulty LED in 6 LEDs = \",average_X)\n",
        "print(\"The standard deviation of faulty LED in 6 LEDs = \",round(std,3))"
      ],
      "execution_count": null,
      "outputs": [
        {
          "output_type": "stream",
          "text": [
            "Therefore, The average value of faulty LED in 6 LEDs =  1.71938\n",
            "The standard deviation of faulty LED in 6 LEDs =  1.106\n"
          ],
          "name": "stdout"
        }
      ]
    },
    {
      "cell_type": "code",
      "metadata": {
        "id": "dGvvQ_ovKD4w"
      },
      "source": [
        ""
      ],
      "execution_count": null,
      "outputs": []
    },
    {
      "cell_type": "markdown",
      "metadata": {
        "id": "9z24U7mNNj-5"
      },
      "source": [
        "###Problem Statement 6:\n",
        "\n",
        "#####Gaurav and Barakha are both preparing for entrance exams. Gaurav attempts to solve 8 questions per day with a correction rate of 75%, while Barakha averages around 12 questions per day with a correction rate of 45%. What is the probability that each of them will solve 5 questions correctly? What happens in cases of 4 and 6 correct solutions? What do you infer from it? What are the two main governing factors affecting their ability to solve questions correctly? Give a pictorial representation of the same to validate your answer."
      ]
    },
    {
      "cell_type": "code",
      "metadata": {
        "id": "XBvyOyMJNjYj",
        "colab": {
          "base_uri": "https://localhost:8080/"
        },
        "outputId": "ce6f34c2-f932-47fd-b937-3e5c20d8d388"
      },
      "source": [
        "# Again,this question can be solved using binomial distribution.\n",
        "# let 'g' and 'b' be the probability that the question solved by Gaurav and Barakha  is correct respectively\n",
        "g = 0.75\n",
        "b = 0.45\n",
        "# Also the probability of Gaurav solving aquestion does not depend  on Barakha solving a question. In other words, these are independent events.\n",
        "\n",
        "from scipy.stats import binom\n",
        "import numpy as np\n",
        "import matplotlib.pyplot as plt\n",
        "import seaborn as sns\n",
        "\n",
        "print(f\"Combined probability of Gaurav and Barakha solving 5 question = {round(binom.pmf(5,8,g)*binom.pmf(5,12,b),4)}\")\n",
        "print(f\"Combined probability of Gaurav and Barakha solving 5 question = {round(binom.pmf(4,8,g)*binom.pmf(6,12,b),4)}\")"
      ],
      "execution_count": null,
      "outputs": [
        {
          "output_type": "stream",
          "text": [
            "Combined probability of Gaurav and Barakha solving 5 question = 0.0462\n",
            "Combined probability of Gaurav and Barakha solving 5 question = 0.0184\n"
          ],
          "name": "stdout"
        }
      ]
    },
    {
      "cell_type": "code",
      "metadata": {
        "id": "09hhVakmNjcD"
      },
      "source": [
        "# The two governing facts affecting their ability to solve correctly are correction rate and number of questions to solve. \n",
        "# The correctness rate affects the skewness while the number of questions affect the spread of the distribution\n",
        "\n",
        "def plot(n,corr_rate):\n",
        "  r = list(range(n+1)) \n",
        "  prob = [binom.pmf(i,n,corr_rate) for i in r]\n",
        "  sns.barplot(r,prob)"
      ],
      "execution_count": null,
      "outputs": []
    },
    {
      "cell_type": "code",
      "metadata": {
        "colab": {
          "base_uri": "https://localhost:8080/",
          "height": 265
        },
        "id": "KW9f29728JyC",
        "outputId": "8120d059-bf06-4a84-928f-2982dfa44000"
      },
      "source": [
        "# For Gaurav\n",
        "plot(8,0.75)"
      ],
      "execution_count": null,
      "outputs": [
        {
          "output_type": "display_data",
          "data": {
            "image/png": "[encoded data removed]",
            "text/plain": [
              "<Figure size 432x288 with 1 Axes>"
            ]
          },
          "metadata": {
            "tags": [],
            "needs_background": "light"
          }
        }
      ]
    },
    {
      "cell_type": "code",
      "metadata": {
        "colab": {
          "base_uri": "https://localhost:8080/",
          "height": 265
        },
        "id": "KhAsXez58rbR",
        "outputId": "b78416a1-c9ff-45e6-817d-36fb28719340"
      },
      "source": [
        "# For Barakha\n",
        "plot(12,0.45)"
      ],
      "execution_count": null,
      "outputs": [
        {
          "output_type": "display_data",
          "data": {
            "image/png": "[encoded data removed]",
            "text/plain": [
              "<Figure size 432x288 with 1 Axes>"
            ]
          },
          "metadata": {
            "tags": [],
            "needs_background": "light"
          }
        }
      ]
    },
    {
      "cell_type": "code",
      "metadata": {
        "id": "tTIZAyb_809J"
      },
      "source": [
        ""
      ],
      "execution_count": null,
      "outputs": []
    },
    {
      "cell_type": "markdown",
      "metadata": {
        "id": "N9GcTWZmJUAp"
      },
      "source": [
        "### Problem Statement 7:\n",
        "\n",
        "#####Customers arrive at a rate of 72 per hour to my shop. What is the probability of k customers arriving in 4 minutes? a) 5 customers, b) not more than 3 customers, c) more than 3 customers. Give a pictorial representation of the same to validate your answer."
      ]
    },
    {
      "cell_type": "code",
      "metadata": {
        "colab": {
          "base_uri": "https://localhost:8080/",
          "height": 347
        },
        "id": "zGno4g-cEw9g",
        "outputId": "09cfd137-81d4-46b4-b894-b05d6215c4d1"
      },
      "source": [
        "from scipy.stats import poisson\n",
        "import numpy as np\n",
        "import matplotlib.pyplot as plt\n",
        "import seaborn as sns\n",
        "\n",
        "mu = 72 # rate = 72/hour\n",
        "\n",
        "# The rate for 4 mins is mu4:\n",
        "mu_4 = mu*(4/60)\n",
        "\n",
        "# a) 5 customers\n",
        "mu_4 = mu*(4/60)\n",
        "x = 5\n",
        "prob_a = poisson.pmf(x,mu_4)\n",
        "print(f\"Probability of 5 customers arriving in 4 minutes = {round(prob_a,3)}\")\n",
        "\n",
        "# b) not more than 3 customers\n",
        "prob_b = poisson.pmf(0,mu_4) + poisson.pmf(1,mu_4)+ poisson.pmf(2,mu_4) + poisson.pmf(3,mu_4)\n",
        "print(f\"Probability of not more than 3 customers arriving in 4 minutes = {round(prob_b,3)}\")\n",
        "\n",
        "# c) more than 3 customers\n",
        "prob_c = 1 - poisson.pmf(0,mu_4) - poisson.pmf(1,mu_4)- poisson.pmf(2,mu_4) - poisson.pmf(3,mu_4)\n",
        "print(f\"Probability of more than 3 customers arriving in 4 minutes = {round(prob_c,3)}\\n\")\n",
        "\n",
        "\n",
        "Prob_list = [poisson.pmf(x,mu_4) for x in range(15)]\n",
        "sns.barplot(list(range(15)),Prob_list)\n",
        "plt.xlabel(\"Number of customers\")\n",
        "plt.ylabel(\"Probability\")\n",
        "plt.show()"
      ],
      "execution_count": null,
      "outputs": [
        {
          "output_type": "stream",
          "text": [
            "Probability of 5 customers arriving in 4 minutes = 0.175\n",
            "Probability of not more than 3 customers arriving in 4 minutes = 0.294\n",
            "Probability of more than 3 customers arriving in 4 minutes = 0.706\n",
            "\n"
          ],
          "name": "stdout"
        },
        {
          "output_type": "display_data",
          "data": {
            "image/png": "[encoded data removed]",
            "text/plain": [
              "<Figure size 432x288 with 1 Axes>"
            ]
          },
          "metadata": {
            "tags": [],
            "needs_background": "light"
          }
        }
      ]
    },
    {
      "cell_type": "code",
      "metadata": {
        "id": "PxGF-jrIQjkU"
      },
      "source": [
        ""
      ],
      "execution_count": null,
      "outputs": []
    },
    {
      "cell_type": "markdown",
      "metadata": {
        "id": "FR7FImACEwOE"
      },
      "source": [
        "###Problem Statement 8:\n",
        "\n",
        "#####I work as a data analyst in Aeon Learning Pvt. Ltd. After analyzing data, I make reports, where I have the efficiency of entering 77 words per minute with 6 errors per hour. What is the probability that I will commit 2 errors in a 455-word financial report? What happens when the no. of words increases/decreases (in case of 1000 words, 255 words)? How is the λ affected? How does it influence the PMF? Give a pictorial representation of the same to validate your answer."
      ]
    },
    {
      "cell_type": "code",
      "metadata": {
        "colab": {
          "base_uri": "https://localhost:8080/",
          "height": 364
        },
        "id": "aHlVoL-kEvXX",
        "outputId": "fd57a366-2738-47ab-ad50-f56897c21631"
      },
      "source": [
        "from scipy.stats import poisson\n",
        "import numpy as np\n",
        "import matplotlib.pyplot as plt\n",
        "import seaborn as sns\n",
        "\n",
        "total_words_in_an_hr = 77*60\n",
        "mu = 6 #lambda\n",
        "\n",
        "print(f\"Probability of committing 2 error in 455 words = {poisson.pmf(2,mu*455/total_words_in_an_hr)}\")\n",
        "print(f\"Probability of committing 2 error in 1000 words = {poisson.pmf(2,mu*1000/total_words_in_an_hr)}\")\n",
        "print(f\"Probability of committing 2 error in 255 words = {poisson.pmf(2,mu*255/total_words_in_an_hr)}\\n\")\n",
        "\n",
        "#Probability variation with the no. of words\n",
        "prob_list = [poisson.pmf(2,mu*words/total_words_in_an_hr) for words in range(200,3100,100)]\n",
        "sns.barplot(list(range(200,3100,100)),prob_list)  \n",
        "plt.ylabel('Probability')\n",
        "plt.xlabel(\"words\")\n",
        "plt.xticks(rotation=60)\n",
        "plt.show()\n",
        "\n",
        "# lambda increases with increase in number of words"
      ],
      "execution_count": null,
      "outputs": [
        {
          "output_type": "stream",
          "text": [
            "Probability of committing 2 error in 455 words = 0.09669027375144444\n",
            "Probability of committing 2 error in 1000 words = 0.23012815007300153\n",
            "Probability of committing 2 error in 255 words = 0.039377135392854104\n",
            "\n"
          ],
          "name": "stdout"
        },
        {
          "output_type": "display_data",
          "data": {
            "image/png": "[encoded data removed]",
            "text/plain": [
              "<Figure size 432x288 with 1 Axes>"
            ]
          },
          "metadata": {
            "tags": [],
            "needs_background": "light"
          }
        }
      ]
    },
    {
      "cell_type": "code",
      "metadata": {
        "id": "JskDfRkBEva_"
      },
      "source": [
        ""
      ],
      "execution_count": null,
      "outputs": []
    },
    {
      "cell_type": "markdown",
      "metadata": {
        "id": "bXkv_Vc-MKgO"
      },
      "source": [
        "###Problem Statement 9:\n",
        "\n",
        "##### Let the continuous random variable D denote the diameter of the hole drilled in an aluminum sheet. The target diameter to be achieved is 12.5mm. Random disturbances in the process often result in inaccuracy. Historical data shows that the distribution of D can be modelled by the PDF, f(d) = 20e−20(d−12.5), d ≥ 12.5. If a part with diameter > 12.6 mm needs to be scrapped, what is the proportion of those parts? What is the CDF when the diameter is of 11 mm? What is the conclusion of this experiment?"
      ]
    },
    {
      "cell_type": "code",
      "metadata": {
        "colab": {
          "base_uri": "https://localhost:8080/"
        },
        "id": "A4Fd1gNvIzJk",
        "outputId": "1d834100-445a-4a46-d5c0-7c645a4fd658"
      },
      "source": [
        "from scipy import integrate\n",
        "import numpy as np\n",
        "\n",
        "def pdf(d):\n",
        "  return 20*np.exp(-20*(d-12.5))\n",
        "\n",
        "print(f\"Probability of scrapping hole of diameter more than 12.6mm = {integrate.quad(pdf,12.6,np.inf)[0]}\")\n",
        "print(f\"Probability of scrapping hole of diameter more than 12.5mm = {integrate.quad(pdf,12.5,12.6)[0]}\")\n",
        "print(f\"CDF upto 11mm = {integrate.quad(pdf,-np.inf,11)[0]}\")\n",
        "\n",
        "# Conclusion - The pdf function is such that there is very high probabilty of diameter being in between 12.5 to 12.6 mm i.e. 0.86\n",
        "# The probability of diameter being 11 mm is undefined."
      ],
      "execution_count": null,
      "outputs": [
        {
          "output_type": "stream",
          "text": [
            "Probability of scrapping hole of diameter more than 12.6mm = 0.13533528323661398\n",
            "Probability of scrapping hole of diameter more than 12.5mm = 0.8646647167633718\n",
            "CDF upto 11mm = inf\n"
          ],
          "name": "stdout"
        },
        {
          "output_type": "stream",
          "text": [
            "/usr/local/lib/python3.7/dist-packages/ipykernel_launcher.py:5: RuntimeWarning: overflow encountered in exp\n",
            "  \"\"\"\n"
          ],
          "name": "stderr"
        }
      ]
    },
    {
      "cell_type": "code",
      "metadata": {
        "id": "zmVQDyMmMUFu"
      },
      "source": [
        ""
      ],
      "execution_count": null,
      "outputs": []
    },
    {
      "cell_type": "markdown",
      "metadata": {
        "id": "977MQCaDQlyl"
      },
      "source": [
        "### Problem Statement 10:\n",
        "\n",
        "##### Please compute the following:\n",
        "#####a) P(Z > 1.26), P(Z < −0.86), P(Z > −1.37), P(−1.25 < Z < 0.37), P(Z ≤ −4.6) \n",
        "#####b) Find the value z such that P(Z > z) = 0.05\n",
        "##### c) Find the value of z such that P(−z < Z < z) = 0.99"
      ]
    },
    {
      "cell_type": "code",
      "metadata": {
        "colab": {
          "base_uri": "https://localhost:8080/"
        },
        "id": "Ps5RH-66Qk_Y",
        "outputId": "5cebf48b-8f2a-497c-a35d-9bfb68c9f014"
      },
      "source": [
        "import scipy.stats as st\n",
        "\n",
        "print(f'P(Z > 1.26) = {1 - st.norm.cdf(1.26)}')\n",
        "print(f'P(Z < 0.86) = {st.norm.cdf(-0.86)}')\n",
        "print(f'P(Z > -1.37) = {1 - st.norm.cdf(-1.37)}')\n",
        "\n",
        "print(f'z  for P(Z > z) = {st.norm.ppf(0.95)}')\n",
        "print(f'z  for P(-z < Z < z) = {-st.norm.ppf(0.005)}')"
      ],
      "execution_count": null,
      "outputs": [
        {
          "output_type": "stream",
          "text": [
            "P(Z > 1.26) = 0.10383468112130045\n",
            "P(Z < 0.86) = 0.1948945212518084\n",
            "P(Z > -1.37) = 0.914656549178033\n",
            "z  for P(Z > z) = 1.6448536269514722\n",
            "z  for P(-z < Z < z) = 2.575829303548901\n"
          ],
          "name": "stdout"
        }
      ]
    },
    {
      "cell_type": "code",
      "metadata": {
        "id": "1tNYv_9LQlDD"
      },
      "source": [
        ""
      ],
      "execution_count": null,
      "outputs": []
    },
    {
      "cell_type": "markdown",
      "metadata": {
        "id": "f04JJA47c2bs"
      },
      "source": [
        "###Problem Statement 11:\n",
        "\n",
        "#####The current flow in a copper wire follow a normal distribution with a mean of 10 mA and a variance of 4 (mA)^2. What is the probability that a current measurement will exceed 13 mA? What is the probability that a current measurement is between 9 and 11mA? Determine the current measurement which has a probability of 0.98."
      ]
    },
    {
      "cell_type": "code",
      "metadata": {
        "colab": {
          "base_uri": "https://localhost:8080/"
        },
        "id": "OxMJk1zaMUJH",
        "outputId": "a6a29c33-7c11-4b89-8117-bbe25b01361e"
      },
      "source": [
        "mean = 10\n",
        "std = 4**0.5\n",
        "# z score for 13mA\n",
        "Z1 =  (13 - mean)/std\n",
        "\n",
        "import scipy.stats as st\n",
        "print(f'Probability of current being greater than 13mA, P(Z > {round(Z1,4)}) = {round(1 - st.norm.cdf(Z1),4)}')\n",
        "\n",
        "Z2 = (9 - mean)/std\n",
        "print(f'Probability of current being in between [9,11], P({round(Z2,4)} < Z < {round(-Z2,4)}) = {round((1 - 2*st.norm.cdf(Z2)),4)}')"
      ],
      "execution_count": null,
      "outputs": [
        {
          "output_type": "stream",
          "text": [
            "Probability of current being greater than 13mA, P(Z > 1.5) = 0.0668\n",
            "Probability of current being in between [9,11], P(-0.5 < Z < 0.5) = 0.3829\n"
          ],
          "name": "stdout"
        }
      ]
    },
    {
      "cell_type": "code",
      "metadata": {
        "id": "QO8Us24tdi35"
      },
      "source": [
        ""
      ],
      "execution_count": null,
      "outputs": []
    },
    {
      "cell_type": "markdown",
      "metadata": {
        "id": "f9TvGQ7wf_WC"
      },
      "source": [
        "###Problem Statement 12:\n",
        "\n",
        "##### The shaft in a piston has its diameter normally distributed with a mean of 0.2508 inch and a standard deviation of 0.0005 inch. The specifications of the shaft are 0.2500 ∓ 0.0015 inch. What proportion of shafts are in sync with the specifications? If the process is centered so that the mean is equal to the target value of 0.2500, what proportion of shafts conform to the new specifications? What is your conclusion from this experiment?"
      ]
    },
    {
      "cell_type": "code",
      "metadata": {
        "colab": {
          "base_uri": "https://localhost:8080/"
        },
        "id": "DCmzppsvdi7x",
        "outputId": "0a4f4e48-a413-4f24-ce77-d5394b52a515"
      },
      "source": [
        "import scipy.stats as st\n",
        "\n",
        "# Maunfactured piston specs\n",
        "mean_1 = 0.2508\n",
        "std_1 = 0.0005\n",
        "\n",
        "# Required specs\n",
        "mean_2 = 0.2500\n",
        "std_2 = 0.0015\n",
        "\n",
        "# Required range of diameter\n",
        "x_up = mean_2 + std_2\n",
        "x_low = mean_2 - std_2\n",
        "# Z-scores of the diameters\n",
        "z1 = (x_up - mean_1)/std_1\n",
        "z2 =  (x_low - mean_1)/std_1\n",
        "\n",
        "#Propotion of pistons in sync are\n",
        "in_sync = st.norm.cdf(z1) - st.norm.cdf(z2)\n",
        "print(f\"Proportion of pistons in sync when mean is centered around 0.2508 = {round(in_sync,4)}\") \n",
        "\n",
        "# If the process is centered so that the mean is equal to the target value of 0.2500\n",
        "\n",
        "# Maunfactured piston specs\n",
        "mean_1 = 0.2500\n",
        "std_1 = 0.0005\n",
        "\n",
        "# Z-scores of the diameters\n",
        "z1 = (x_up - mean_1)/std_1\n",
        "z2 =  (x_low - mean_1)/std_1\n",
        "\n",
        "#Propotion of pistons in sync are\n",
        "in_sync = st.norm.cdf(z1) - st.norm.cdf(z2)\n",
        "print(f\"Proportion of pistons in sync when mean is centered around 0.2500 = {round(in_sync,4)}\") \n",
        "\n",
        "#Conclusion - As the distribution of manufactured piston comes closer to the distribition of required specs, \n",
        "# there is more overlap of the normal curve leading to higher propertions"
      ],
      "execution_count": null,
      "outputs": [
        {
          "output_type": "stream",
          "text": [
            "Proportion of pistons in sync when mean is centered around 0.2508 = 0.9192\n",
            "Proportion of pistons in sync when mean is centered around 0.2500 = 0.9973\n"
          ],
          "name": "stdout"
        }
      ]
    },
    {
      "cell_type": "code",
      "metadata": {
        "id": "vSDSTBudljjp"
      },
      "source": [
        ""
      ],
      "execution_count": null,
      "outputs": []
    }
  ]
}